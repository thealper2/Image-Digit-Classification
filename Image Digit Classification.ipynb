{
 "cells": [
  {
   "cell_type": "code",
   "execution_count": 84,
   "id": "d5e7241d",
   "metadata": {},
   "outputs": [],
   "source": [
    "from tensorflow.keras.models import load_model\n",
    "import numpy as np\n",
    "import pandas as pd\n",
    "from keras.utils.np_utils import to_categorical\n",
    "from keras.layers import Dense, Conv2D, MaxPooling2D, Dropout, Flatten\n",
    "from keras.models import Sequential\n",
    "from tensorflow.keras.utils import array_to_img\n",
    "from tensorflow.keras.datasets.mnist import load_data"
   ]
  },
  {
   "cell_type": "code",
   "execution_count": 87,
   "id": "31982c9d",
   "metadata": {},
   "outputs": [],
   "source": [
    "(X_train, y_train), (X_test, y_test) = load_data()"
   ]
  },
  {
   "cell_type": "code",
   "execution_count": 88,
   "id": "c42d5089",
   "metadata": {},
   "outputs": [
    {
     "data": {
      "text/plain": [
       "((60000, 28, 28), (10000, 28, 28))"
      ]
     },
     "execution_count": 88,
     "metadata": {},
     "output_type": "execute_result"
    }
   ],
   "source": [
    "X_train.shape, X_test.shape"
   ]
  },
  {
   "cell_type": "code",
   "execution_count": 89,
   "id": "06475972",
   "metadata": {},
   "outputs": [],
   "source": [
    "X_train = X_train.reshape((60000, 28, 28, 1)).astype(\"float32\")\n",
    "X_test = X_test.reshape((10000, 28, 28, 1)).astype(\"float32\")"
   ]
  },
  {
   "cell_type": "code",
   "execution_count": 90,
   "id": "ea84d5c7",
   "metadata": {},
   "outputs": [],
   "source": [
    "X_train = X_train / 255\n",
    "X_test = X_test / 255"
   ]
  },
  {
   "cell_type": "code",
   "execution_count": 91,
   "id": "97ea449f",
   "metadata": {},
   "outputs": [],
   "source": [
    "y_train = to_categorical(y_train)\n",
    "y_test = to_categorical(y_test)"
   ]
  },
  {
   "cell_type": "code",
   "execution_count": 92,
   "id": "c4a32c57",
   "metadata": {},
   "outputs": [
    {
     "data": {
      "text/plain": [
       "((60000, 10), (10000, 10))"
      ]
     },
     "execution_count": 92,
     "metadata": {},
     "output_type": "execute_result"
    }
   ],
   "source": [
    "y_train.shape, y_test.shape"
   ]
  },
  {
   "cell_type": "code",
   "execution_count": 93,
   "id": "d2e7a5d8",
   "metadata": {},
   "outputs": [],
   "source": [
    "model = Sequential([\n",
    "    Dense(num_pixel, input_dim=num_pixel, kernel_initializer=\"normal\", activation=\"relu\"),\n",
    "    Dense(10, kernel_initializer=\"normal\", activation=\"softmax\")\n",
    "])"
   ]
  },
  {
   "cell_type": "code",
   "execution_count": 94,
   "id": "bea6ff5c",
   "metadata": {},
   "outputs": [],
   "source": [
    "model = Sequential([\n",
    "    Conv2D(32, (5, 5), input_shape=(28, 28, 1), activation=\"relu\"),\n",
    "    MaxPooling2D(pool_size=(2,2)),\n",
    "    Dropout(0.2),\n",
    "    Flatten(),\n",
    "    Dense(128, activation=\"relu\"),\n",
    "    Dense(10, activation=\"softmax\")\n",
    "])"
   ]
  },
  {
   "cell_type": "code",
   "execution_count": 95,
   "id": "a095a2cf",
   "metadata": {},
   "outputs": [],
   "source": [
    "model.compile(loss=\"categorical_crossentropy\", optimizer=\"adam\", metrics=[\"accuracy\"])"
   ]
  },
  {
   "cell_type": "code",
   "execution_count": 96,
   "id": "06e5d943",
   "metadata": {},
   "outputs": [
    {
     "name": "stdout",
     "output_type": "stream",
     "text": [
      "Model: \"sequential_5\"\n",
      "_________________________________________________________________\n",
      " Layer (type)                Output Shape              Param #   \n",
      "=================================================================\n",
      " conv2d_3 (Conv2D)           (None, 24, 24, 32)        832       \n",
      "                                                                 \n",
      " max_pooling2d_3 (MaxPooling  (None, 12, 12, 32)       0         \n",
      " 2D)                                                             \n",
      "                                                                 \n",
      " dropout_3 (Dropout)         (None, 12, 12, 32)        0         \n",
      "                                                                 \n",
      " flatten_3 (Flatten)         (None, 4608)              0         \n",
      "                                                                 \n",
      " dense_10 (Dense)            (None, 128)               589952    \n",
      "                                                                 \n",
      " dense_11 (Dense)            (None, 10)                1290      \n",
      "                                                                 \n",
      "=================================================================\n",
      "Total params: 592,074\n",
      "Trainable params: 592,074\n",
      "Non-trainable params: 0\n",
      "_________________________________________________________________\n"
     ]
    }
   ],
   "source": [
    "model.summary()"
   ]
  },
  {
   "cell_type": "code",
   "execution_count": 97,
   "id": "d33fa6f0",
   "metadata": {},
   "outputs": [
    {
     "name": "stdout",
     "output_type": "stream",
     "text": [
      "Epoch 1/10\n",
      "300/300 [==============================] - 6s 20ms/step - loss: 0.2423 - accuracy: 0.9308 - val_loss: 0.0828 - val_accuracy: 0.9750\n",
      "Epoch 2/10\n",
      "300/300 [==============================] - 6s 20ms/step - loss: 0.0733 - accuracy: 0.9784 - val_loss: 0.0521 - val_accuracy: 0.9830\n",
      "Epoch 3/10\n",
      "300/300 [==============================] - 6s 20ms/step - loss: 0.0511 - accuracy: 0.9846 - val_loss: 0.0409 - val_accuracy: 0.9868\n",
      "Epoch 4/10\n",
      "300/300 [==============================] - 6s 20ms/step - loss: 0.0404 - accuracy: 0.9875 - val_loss: 0.0340 - val_accuracy: 0.9885\n",
      "Epoch 5/10\n",
      "300/300 [==============================] - 6s 20ms/step - loss: 0.0325 - accuracy: 0.9898 - val_loss: 0.0325 - val_accuracy: 0.9892\n",
      "Epoch 6/10\n",
      "300/300 [==============================] - 6s 20ms/step - loss: 0.0259 - accuracy: 0.9920 - val_loss: 0.0358 - val_accuracy: 0.9890\n",
      "Epoch 7/10\n",
      "300/300 [==============================] - 6s 20ms/step - loss: 0.0223 - accuracy: 0.9929 - val_loss: 0.0330 - val_accuracy: 0.9885\n",
      "Epoch 8/10\n",
      "300/300 [==============================] - 6s 20ms/step - loss: 0.0176 - accuracy: 0.9945 - val_loss: 0.0320 - val_accuracy: 0.9901\n",
      "Epoch 9/10\n",
      "300/300 [==============================] - 6s 20ms/step - loss: 0.0162 - accuracy: 0.9946 - val_loss: 0.0368 - val_accuracy: 0.9877\n",
      "Epoch 10/10\n",
      "300/300 [==============================] - 6s 20ms/step - loss: 0.0134 - accuracy: 0.9959 - val_loss: 0.0317 - val_accuracy: 0.9892\n"
     ]
    },
    {
     "data": {
      "text/plain": [
       "<keras.callbacks.History at 0x299274460>"
      ]
     },
     "execution_count": 97,
     "metadata": {},
     "output_type": "execute_result"
    }
   ],
   "source": [
    "model.fit(X_train, y_train, validation_data=(X_test, y_test), epochs=10, batch_size=200)"
   ]
  },
  {
   "cell_type": "code",
   "execution_count": 98,
   "id": "225ba838",
   "metadata": {},
   "outputs": [
    {
     "name": "stdout",
     "output_type": "stream",
     "text": [
      "1/1 [==============================] - 0s 26ms/step\n",
      "[5]\n"
     ]
    }
   ],
   "source": [
    "var = X_test[15]\n",
    "var = np.array(var).reshape(1, 28, 28)\n",
    "res = np.argmax(model.predict(var), axis=-1)\n",
    "print(res)"
   ]
  },
  {
   "cell_type": "code",
   "execution_count": 99,
   "id": "d549b2e7",
   "metadata": {},
   "outputs": [
    {
     "data": {
      "image/png": "[encoded data removed]",
      "text/plain": [
       "<PIL.Image.Image image mode=L size=28x28>"
      ]
     },
     "execution_count": 99,
     "metadata": {},
     "output_type": "execute_result"
    }
   ],
   "source": [
    "var = X_test[15]\n",
    "array_to_img(var)"
   ]
  },
  {
   "cell_type": "code",
   "execution_count": 100,
   "id": "3253b156",
   "metadata": {},
   "outputs": [],
   "source": [
    "model.save(\"ImageDigit.h5\")"
   ]
  },
  {
   "cell_type": "code",
   "execution_count": null,
   "id": "b89a412f",
   "metadata": {},
   "outputs": [],
   "source": []
  }
 ],
 "metadata": {
  "kernelspec": {
   "display_name": "Python 3 (ipykernel)",
   "language": "python",
   "name": "python3"
  },
  "language_info": {
   "codemirror_mode": {
    "name": "ipython",
    "version": 3
   },
   "file_extension": ".py",
   "mimetype": "text/x-python",
   "name": "python",
   "nbconvert_exporter": "python",
   "pygments_lexer": "ipython3",
   "version": "3.8.16"
  }
 },
 "nbformat": 4,
 "nbformat_minor": 5
}
